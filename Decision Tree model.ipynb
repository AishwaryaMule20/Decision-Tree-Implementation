# Step 1: Import required libraries
import numpy as np
import pandas as pd
import matplotlib.pyplot as plt
from sklearn.datasets import load_iris
from sklearn.model_selection import train_test_split
from sklearn.tree import DecisionTreeClassifier, plot_tree
from sklearn.metrics import accuracy_score, classification_report, confusion_matrix

# Step 2: Load the Iris dataset
iris = load_iris()
X = iris.data                          # Feature matrix
y = iris.target                        # Target labels
feature_names = iris.feature_names     # Feature names
target_names = iris.target_names       # Class names

# Step 3: Convert to DataFrame for better visualization (optional)
df = pd.DataFrame(X, columns=feature_names)
df['target'] = y
df['flower_type'] = df['target'].apply(lambda x: target_names[x])

print("First 5 rows of the dataset:\n")
print(df.head())

# Step 4: Split the dataset into training and testing sets (70% train, 30% test)
X_train, X_test, y_train, y_test = train_test_split(X, y, test_size=0.3, random_state=42)

# Step 5: Create and train the Decision Tree Classifier
model = DecisionTreeClassifier(random_state=42)
model.fit(X_train, y_train)

# Step 6: Predict on the test set
y_pred = model.predict(X_test)

# Step 7: Evaluate model performance
print("\nModel Accuracy: {:.2f}%".format(accuracy_score(y_test, y_pred) * 100))
print("\nClassification Report:\n", classification_report(y_test, y_pred, target_names=target_names))
print("Confusion Matrix:\n", confusion_matrix(y_test, y_pred))

# Step 8: Visualize the Decision Tree
plt.figure(figsize=(14, 10))
plot_tree(model, filled=True, feature_names=feature_names, class_names=target_names, rounded=True)
plt.title("Decision Tree Trained on Iris Dataset")
plt.show()
